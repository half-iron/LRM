{
 "cells": [
  {
   "cell_type": "code",
   "execution_count": 1,
   "metadata": {},
   "outputs": [
    {
     "name": "stderr",
     "output_type": "stream",
     "text": [
      "ssh: connect to host localhost port 2211: Connection refused\n",
      "rsync: connection unexpectedly closed (0 bytes received so far) [Receiver]\n",
      "rsync error: unexplained error (code 255) at io.c(235) [Receiver=3.1.2]\n"
     ]
    }
   ],
   "source": [
    "%%bash \n",
    "rsync -r LRMfwonLocalhost:/home/debian/test . "
   ]
  },
  {
   "cell_type": "code",
   "execution_count": 27,
   "metadata": {},
   "outputs": [
    {
     "data": {
      "text/html": [
       "\n",
       "    <div class=\"bk-root\">\n",
       "        <a href=\"https://bokeh.pydata.org\" target=\"_blank\" class=\"bk-logo bk-logo-small bk-logo-notebook\"></a>\n",
       "        <span id=\"45ed9bcf-2264-402c-8b85-4d28ddd50179\">Loading BokehJS ...</span>\n",
       "    </div>"
      ]
     },
     "metadata": {},
     "output_type": "execute_result"
    },
    {
     "data": {},
     "metadata": {},
     "output_type": "display_data"
    }
   ],
   "source": [
    "import sys\n",
    "sys.path.insert(0, \"/home/esr/LRMessanlage/pyLRM\")\n",
    "from pathlib import Path \n",
    "import parse\n",
    "import pandas as pd\n",
    "import datetime\n",
    "from bokeh.models import ColumnDataSource,Plot, LinearAxis, Grid\n",
    "from bokeh.plotting import figure, show, output_notebook\n",
    "from bokeh.models import DatetimeTickFormatter,Range1d\n",
    "\n",
    "from bokeh.models.glyphs import Segment\n",
    "\n",
    "from logging_handler import ax_sensor_log_parser,_ax_sensor_log_row_parser\n",
    "output_notebook()\n",
    "\n",
    "\n",
    "def calc_pby(df,time_threshold_s):\n",
    "    \"\"\"\n",
    "    diese funktion splittet eine df von achsdaten in mehrere unterlisten falls \n",
    "    die Zeit zwichen Achsdaten Ereignisse > ist als den angegebene time_threshold_s\n",
    "    \"\"\"\n",
    "    pby = []\n",
    "    pbycnt=0\n",
    "    ax = []\n",
    "    axcnt=0\n",
    "    for toff in df.time_wheel_off.values:\n",
    "        if toff> time_threshold_s:\n",
    "            axcnt=0\n",
    "            pbycnt+=1\n",
    "        else:\n",
    "            axcnt+=1\n",
    "        pby.append(pbycnt)\n",
    "        ax.append(axcnt)\n",
    "    return df.assign(passby=pby).assign(ax=ax)"
   ]
  },
  {
   "cell_type": "markdown",
   "metadata": {},
   "source": [
    "### Messung Pfad und name  "
   ]
  },
  {
   "cell_type": "code",
   "execution_count": 43,
   "metadata": {},
   "outputs": [],
   "source": [
    "path= Path(\"/home/esr/Documents/Luzern/\")\n",
    "mess_p=Path(\"/home/esr/Documents/Luzern/Nachmessung2/\")\n",
    "rec_p = path.joinpath(\"KG\")"
   ]
  },
  {
   "cell_type": "markdown",
   "metadata": {},
   "source": [
    "### Lade achs data\n",
    "die achs daten sind vom LRM_messung.log abgeholt.\n"
   ]
  },
  {
   "cell_type": "code",
   "execution_count": 44,
   "metadata": {},
   "outputs": [],
   "source": [
    "zeitintervalle = [\n",
    "    (pd.Timestamp(\"2018-11-13 07:28:00\"),pd.Timestamp(\"2018-11-16 22:00:00\")),\n",
    "                 ]\n",
    "\n",
    "zeitintervalle = [\n",
    "    (pd.Timestamp(\"2018-11-2 \"),pd.Timestamp(\"2018-11-11 22:00:00\")),\n",
    "                 ]\n",
    "\n",
    "zeitintervalle = [\n",
    "    (pd.Timestamp(\"2018-11-19 \"),pd.Timestamp(\"2018-11-26 22:00:00\")),\n",
    "                 ]\n",
    "\n",
    "#between_times= ['8:00', '12:00']"
   ]
  },
  {
   "cell_type": "markdown",
   "metadata": {},
   "source": [
    "### Teste assignement\n",
    "\n",
    "assignement zwischen passby und XLR Daten  "
   ]
  },
  {
   "cell_type": "code",
   "execution_count": 45,
   "metadata": {},
   "outputs": [],
   "source": [
    "import assign_tools as a\n",
    "import logging\n",
    "logger = logging\n",
    "\n",
    "def filt_rec_passby_list(rp_list,zeitintervalle):\n",
    "    list_f = []\n",
    "    for pb in rp_list:\n",
    "        for (t0,t1) in zeitintervalle:\n",
    "            if pb['start_rec']>t0 and pb['stop_rec']<t1:\n",
    "                list_f.append(pb)\n",
    "                break\n",
    "    return list_f\n",
    "    "
   ]
  },
  {
   "cell_type": "markdown",
   "metadata": {},
   "source": [
    "## Lade passby daten"
   ]
  },
  {
   "cell_type": "code",
   "execution_count": 47,
   "metadata": {},
   "outputs": [
    {
     "name": "stdout",
     "output_type": "stream",
     "text": [
      "test_passby_duration: Load passbys from /home/esr/Documents/Luzern/Nachmessung2.\n",
      "test_passby_duration: Number of passby found: 1613.\n",
      "test_passby_duration: 0 passby with duration > than 120.\n"
     ]
    }
   ],
   "source": [
    "_,passby_list=a.load_passby_info_from_dir(mess_p,name_match =\"*.json\")\n",
    "a.test_passby_duration(mess_p,120)"
   ]
  },
  {
   "cell_type": "markdown",
   "metadata": {},
   "source": [
    "## Filtere liste anhand datenintervalle "
   ]
  },
  {
   "cell_type": "code",
   "execution_count": 48,
   "metadata": {},
   "outputs": [
    {
     "name": "stdout",
     "output_type": "stream",
     "text": [
      "Remaining passby: 1381.\n"
     ]
    }
   ],
   "source": [
    "passby_list_f = filt_rec_passby_list(passby_list,zeitintervalle)\n",
    "print(\"Remaining passby: {}.\".format(len(passby_list_f)))"
   ]
  },
  {
   "cell_type": "code",
   "execution_count": 49,
   "metadata": {},
   "outputs": [
    {
     "name": "stdout",
     "output_type": "stream",
     "text": [
      "test_passby_time_corrrection: Load passbys from /home/esr/Documents/Luzern/Nachmessung2.\n",
      "test_passby_time_corrrection: Number of passby found: 1613.\n",
      "test_passby_time_corrrection: Stats: \n",
      "count    1613.000000\n",
      "mean    -7219.940598\n",
      "std       378.472773\n",
      "min     -7236.953222\n",
      "25%     -7235.834899\n",
      "50%     -7232.851622\n",
      "75%     -7231.499481\n",
      "max      5352.396200\n",
      "dtype: float64\n"
     ]
    }
   ],
   "source": [
    "time_correction=datetime.timedelta(seconds=a.test_passby_time_corrrection(mess_p,9000))"
   ]
  },
  {
   "cell_type": "markdown",
   "metadata": {},
   "source": [
    "## Lade XLR rcords "
   ]
  },
  {
   "cell_type": "code",
   "execution_count": 58,
   "metadata": {},
   "outputs": [],
   "source": [
    "rec_list = a.load_xl2logs_from_dir(rec_p)\n"
   ]
  },
  {
   "cell_type": "code",
   "execution_count": 59,
   "metadata": {},
   "outputs": [
    {
     "name": "stdout",
     "output_type": "stream",
     "text": [
      "Remaining passby: 1191.\n"
     ]
    }
   ],
   "source": [
    "rec_list_f = filt_rec_passby_list(rec_list,[(t0-time_correction,t1-time_correction) for (t0,t1) in zeitintervalle])\n",
    "print(\"Remaining passby: {}.\".format(len(rec_list_f)))"
   ]
  },
  {
   "cell_type": "code",
   "execution_count": 63,
   "metadata": {},
   "outputs": [
    {
     "data": {
      "text/html": [
       "\n",
       "\n",
       "\n",
       "\n",
       "\n",
       "\n",
       "  <div class=\"bk-root\" id=\"d4fb3ec9-22d1-4822-b9bd-c1f7ca22ee89\"></div>\n"
      ]
     },
     "metadata": {},
     "output_type": "execute_result"
    },
    {
     "data": {},
     "metadata": {
      "application/vnd.bokehjs_exec.v0+json": {
       "id": "33cfcbd4-698b-43fd-bce2-e011c879196f"
      }
     },
     "output_type": "display_data"
    }
   ],
   "source": [
    "source_passby = ColumnDataSource(\n",
    "    pd.DataFrame([{'x0':pb['start_rec'], 'x1':pb['stop_rec'],'y0':1,'y1':1}for pb in passby_list])\n",
    ")\n",
    "\n",
    "source_xlr2 = ColumnDataSource(\n",
    "    pd.DataFrame([{'x0':r['start_rec']+time_correction, 'x1':r['stop_rec']+time_correction,'y0':2,'y1':2}for r in rec_list])\n",
    ")\n",
    "\n",
    "plt = figure(x_axis_type=\"datetime\", plot_width=1500, plot_height=100,tools=['xwheel_zoom','xpan'], active_scroll='xwheel_zoom',active_drag='xpan')\n",
    "glyph1 = Segment(x0=\"x0\", y0=\"y0\", x1=\"x1\", y1=\"y1\", line_color=\"red\", line_width=10)\n",
    "plt.add_glyph(source_passby, glyph1)\n",
    "glyph2 = Segment(x0=\"x0\", y0=\"y0\", x1=\"x1\", y1=\"y1\", line_color=\"blue\", line_width=10)\n",
    "plt.add_glyph(source_xlr2, glyph2)\n",
    "plt.y_range=Range1d(-0.5,2.5)\n",
    "show(plt)"
   ]
  },
  {
   "cell_type": "markdown",
   "metadata": {},
   "source": [
    "## Assign"
   ]
  },
  {
   "cell_type": "code",
   "execution_count": 64,
   "metadata": {},
   "outputs": [
    {
     "name": "stdout",
     "output_type": "stream",
     "text": [
      "<module>       : Not assigned: Luzern, 2018_11_26_08h15m32s_passby.json.\n",
      "<module>       : Not assigned: Luzern, 2018_11_26_07h33m58s_passby.json.\n",
      "<module>       : Not assigned: Luzern, 2018_11_25_23h48m21s_passby.json.\n",
      "<module>       : Not assigned: Luzern, 2018_11_22_23h19m18s_passby.json.\n",
      "<module>       : Not assigned: Luzern, 2018_11_26_04h49m39s_passby.json.\n",
      "<module>       : Not assigned: Luzern, 2018_11_22_23h22m24s_passby.json.\n",
      "<module>       : Not assigned: Luzern, 2018_11_26_08h12m44s_passby.json.\n",
      "<module>       : Not assigned: Luzern, 2018_11_26_09h05m07s_passby.json.\n",
      "<module>       : Not assigned: Luzern, 2018_11_24_08h43m26s_passby.json.\n",
      "<module>       : Not assigned: Luzern, 2018_11_26_06h06m43s_passby.json.\n",
      "<module>       : Not assigned: Luzern, 2018_11_23_06h12m33s_passby.json.\n",
      "<module>       : Not assigned: Luzern, 2018_11_22_23h01m46s_passby.json.\n",
      "<module>       : Not assigned: Luzern, 2018_11_23_16h45m54s_passby.json.\n",
      "<module>       : Not assigned: Luzern, 2018_11_22_22h17m32s_passby.json.\n",
      "<module>       : Not assigned: Luzern, 2018_11_26_08h45m35s_passby.json.\n",
      "<module>       : Not assigned: Luzern, 2018_11_23_07h35m57s_passby.json.\n",
      "<module>       : Not assigned: Luzern, 2018_11_23_06h50m15s_passby.json.\n",
      "<module>       : Not assigned: Luzern, 2018_11_26_07h37m10s_passby.json.\n",
      "<module>       : Not assigned: Luzern, 2018_11_22_22h36m49s_passby.json.\n",
      "<module>       : Not assigned: Luzern, 2018_11_23_05h38m24s_passby.json.\n",
      "<module>       : Not assigned: Luzern, 2018_11_26_01h05m07s_passby.json.\n",
      "<module>       : Not assigned: Luzern, 2018_11_26_07h50m28s_passby.json.\n",
      "<module>       : Not assigned: Luzern, 2018_11_23_07h18m01s_passby.json.\n",
      "<module>       : Not assigned: Luzern, 2018_11_26_05h56m49s_passby.json.\n",
      "<module>       : Not assigned: Luzern, 2018_11_23_06h41m57s_passby.json.\n",
      "<module>       : Not assigned: Luzern, 2018_11_27_11h50m51s_passby.json.\n",
      "<module>       : Not assigned: Luzern, 2018_11_23_07h22m57s_passby.json.\n",
      "<module>       : Not assigned: Luzern, 2018_11_23_07h42m09s_passby.json.\n",
      "<module>       : Not assigned: Luzern, 2018_11_23_00h19m10s_passby.json.\n",
      "<module>       : Not assigned: Luzern, 2018_11_26_00h54m43s_passby.json.\n",
      "<module>       : Not assigned: Luzern, 2018_11_23_06h25m08s_passby.json.\n",
      "<module>       : Not assigned: Luzern, 2018_11_23_07h06m48s_passby.json.\n",
      "<module>       : Not assigned: Luzern, 2018_11_26_05h35m33s_passby.json.\n",
      "<module>       : Not assigned: Luzern, 2018_11_22_23h13m03s_passby.json.\n",
      "<module>       : Not assigned: Luzern, 2018_11_26_08h17m15s_passby.json.\n",
      "<module>       : Not assigned: Luzern, 2018_11_22_22h20m17s_passby.json.\n",
      "<module>       : Not assigned: Luzern, 2018_11_26_06h42m58s_passby.json.\n",
      "<module>       : Not assigned: Luzern, 2018_11_22_22h01m24s_passby.json.\n",
      "<module>       : Not assigned: Luzern, 2018_11_26_05h39m04s_passby.json.\n",
      "<module>       : Not assigned: Luzern, 2018_11_26_04h23m45s_passby.json.\n",
      "<module>       : Not assigned: Luzern, 2018_11_23_07h45m15s_passby.json.\n",
      "<module>       : Not assigned: Luzern, 2018_11_26_07h24m12s_passby.json.\n",
      "<module>       : Not assigned: Luzern, 2018_11_26_00h07m08s_passby.json.\n",
      "<module>       : Not assigned: Luzern, 2018_11_26_08h22m21s_passby.json.\n",
      "<module>       : Not assigned: Luzern, 2018_11_26_00h31m36s_passby.json.\n",
      "<module>       : Not assigned: Luzern, 2018_11_23_15h13m28s_passby.json.\n",
      "<module>       : Not assigned: Luzern, 2018_11_23_00h31m32s_passby.json.\n",
      "<module>       : Not assigned: Luzern, 2018_11_26_08h59m02s_passby.json.\n",
      "<module>       : Not assigned: Luzern, 2018_11_24_08h12m11s_passby.json.\n",
      "<module>       : Not assigned: Luzern, 2018_11_22_23h56m33s_passby.json.\n",
      "<module>       : Not assigned: Luzern, 2018_11_23_06h19m35s_passby.json.\n",
      "<module>       : Not assigned: Luzern, 2018_11_23_04h45m22s_passby.json.\n",
      "<module>       : Not assigned: Luzern, 2018_11_23_07h47m40s_passby.json.\n",
      "<module>       : Not assigned: Luzern, 2018_11_26_05h45m30s_passby.json.\n",
      "<module>       : Not assigned: Luzern, 2018_11_25_23h45m17s_passby.json.\n",
      "<module>       : Not assigned: Luzern, 2018_11_22_23h11m06s_passby.json.\n",
      "<module>       : Not assigned: Luzern, 2018_11_25_23h50m33s_passby.json.\n",
      "<module>       : Not assigned: Luzern, 2018_11_23_06h37m18s_passby.json.\n",
      "<module>       : Not assigned: Luzern, 2018_11_25_23h53m58s_passby.json.\n",
      "<module>       : Not assigned: Luzern, 2018_11_22_22h08m37s_passby.json.\n",
      "<module>       : Not assigned: Luzern, 2018_11_23_07h15m52s_passby.json.\n",
      "<module>       : Not assigned: Luzern, 2018_11_23_07h26m24s_passby.json.\n",
      "<module>       : Not assigned: Luzern, 2018_11_22_23h15m44s_passby.json.\n",
      "<module>       : Not assigned: Luzern, 2018_11_26_06h39m14s_passby.json.\n",
      "<module>       : Not assigned: Luzern, 2018_11_26_09h11m08s_passby.json.\n",
      "<module>       : Not assigned: Luzern, 2018_11_22_22h50m21s_passby.json.\n",
      "<module>       : Not assigned: Luzern, 2018_11_25_23h40m08s_passby.json.\n",
      "<module>       : Not assigned: Luzern, 2018_11_23_06h04m07s_passby.json.\n",
      "<module>       : Not assigned: Luzern, 2018_11_23_06h55m05s_passby.json.\n",
      "<module>       : Not assigned: Luzern, 2018_11_23_06h15m29s_passby.json.\n",
      "<module>       : Not assigned: Luzern, 2018_11_26_09h09m32s_passby.json.\n",
      "<module>       : Not assigned: Luzern, 2018_11_22_22h54m38s_passby.json.\n",
      "<module>       : Not assigned: Luzern, 2018_11_26_05h32m50s_passby.json.\n",
      "<module>       : Not assigned: Luzern, 2018_11_23_01h34m09s_passby.json.\n",
      "<module>       : Not assigned: Luzern, 2018_11_23_05h17m49s_passby.json.\n",
      "<module>       : Not assigned: Luzern, 2018_11_26_00h24m20s_passby.json.\n",
      "<module>       : Not assigned: Luzern, 2018_11_26_07h06m35s_passby.json.\n",
      "<module>       : Not assigned: Luzern, 2018_11_26_00h00m54s_passby.json.\n",
      "<module>       : Not assigned: Luzern, 2018_11_26_08h33m05s_passby.json.\n",
      "<module>       : Not assigned: Luzern, 2018_11_26_05h58m46s_passby.json.\n",
      "<module>       : Not assigned: Luzern, 2018_11_26_07h46m33s_passby.json.\n",
      "<module>       : Not assigned: Luzern, 2018_11_25_23h43m04s_passby.json.\n",
      "<module>       : Not assigned: Luzern, 2018_11_23_07h24m58s_passby.json.\n",
      "<module>       : Not assigned: Luzern, 2018_11_23_00h07m56s_passby.json.\n",
      "<module>       : Not assigned: Luzern, 2018_11_23_16h41m51s_passby.json.\n",
      "<module>       : Not assigned: Luzern, 2018_11_26_07h29m56s_passby.json.\n",
      "<module>       : Not assigned: Luzern, 2018_11_23_07h05m10s_passby.json.\n",
      "<module>       : Not assigned: Luzern, 2018_11_26_06h01m45s_passby.json.\n",
      "<module>       : Not assigned: Luzern, 2018_11_23_05h58m57s_passby.json.\n",
      "<module>       : Not assigned: Luzern, 2018_11_23_05h03m19s_passby.json.\n",
      "<module>       : Not assigned: Luzern, 2018_11_26_00h34m14s_passby.json.\n",
      "<module>       : Not assigned: Luzern, 2018_11_23_05h33m28s_passby.json.\n",
      "<module>       : Not assigned: Luzern, 2018_11_26_09h25m38s_passby.json.\n",
      "<module>       : Not assigned: Luzern, 2018_11_23_04h59m15s_passby.json.\n",
      "<module>       : Not assigned: Luzern, 2018_11_23_01h18m37s_passby.json.\n",
      "<module>       : Not assigned: Luzern, 2018_11_22_22h06m40s_passby.json.\n",
      "<module>       : Not assigned: Luzern, 2018_11_26_05h19m55s_passby.json.\n",
      "<module>       : Not assigned: Luzern, 2018_11_23_06h45m53s_passby.json.\n",
      "<module>       : Not assigned: Luzern, 2018_11_26_09h07m26s_passby.json.\n",
      "<module>       : Not assigned: Luzern, 2018_11_26_09h13m58s_passby.json.\n",
      "<module>       : Not assigned: Luzern, 2018_11_26_09h22m09s_passby.json.\n",
      "<module>       : Not assigned: Luzern, 2018_11_23_06h06m35s_passby.json.\n",
      "<module>       : Not assigned: Luzern, 2018_11_26_04h56m43s_passby.json.\n",
      "<module>       : Not assigned: Luzern, 2018_11_23_06h08m46s_passby.json.\n",
      "<module>       : Not assigned: Luzern, 2018_11_23_06h17m23s_passby.json.\n",
      "<module>       : Not assigned: Luzern, 2018_11_23_00h28m12s_passby.json.\n",
      "<module>       : Not assigned: Luzern, 2018_11_26_06h33m39s_passby.json.\n",
      "<module>       : Not assigned: Luzern, 2018_11_26_07h01m38s_passby.json.\n",
      "<module>       : Not assigned: Luzern, 2018_11_23_06h01m44s_passby.json.\n",
      "<module>       : Not assigned: Luzern, 2018_11_26_17h38m55s_passby.json.\n",
      "<module>       : Not assigned: Luzern, 2018_11_26_06h56m00s_passby.json.\n",
      "<module>       : Not assigned: Luzern, 2018_11_22_22h45m12s_passby.json.\n",
      "<module>       : Not assigned: Luzern, 2018_11_23_05h56m59s_passby.json.\n",
      "<module>       : Not assigned: Luzern, 2018_11_26_08h52m34s_passby.json.\n",
      "<module>       : Not assigned: Luzern, 2018_11_23_00h35m19s_passby.json.\n",
      "<module>       : Not assigned: Luzern, 2018_11_26_07h20m07s_passby.json.\n",
      "<module>       : Not assigned: Luzern, 2018_11_22_23h07m01s_passby.json.\n",
      "<module>       : Not assigned: Luzern, 2018_11_26_08h41m15s_passby.json.\n",
      "<module>       : Not assigned: Luzern, 2018_11_26_07h58m01s_passby.json.\n",
      "<module>       : Not assigned: Luzern, 2018_11_26_00h11m34s_passby.json.\n",
      "<module>       : Not assigned: Luzern, 2018_11_26_06h15m57s_passby.json.\n",
      "<module>       : Not assigned: Luzern, 2018_11_26_07h03m42s_passby.json.\n",
      "<module>       : Not assigned: Luzern, 2018_11_22_23h53m32s_passby.json.\n",
      "<module>       : Not assigned: Luzern, 2018_11_26_05h17m16s_passby.json.\n",
      "<module>       : Not assigned: Luzern, 2018_11_26_08h49m57s_passby.json.\n",
      "<module>       : Not assigned: Luzern, 2018_11_22_23h46m05s_passby.json.\n",
      "<module>       : Not assigned: Luzern, 2018_11_26_08h54m30s_passby.json.\n",
      "<module>       : Not assigned: Luzern, 2018_11_23_06h52m34s_passby.json.\n",
      "<module>       : Not assigned: Luzern, 2018_11_26_06h03m49s_passby.json.\n",
      "<module>       : Not assigned: Luzern, 2018_11_22_22h13m54s_passby.json.\n",
      "<module>       : Not assigned: Luzern, 2018_11_23_06h23m17s_passby.json.\n",
      "<module>       : Not assigned: Luzern, 2018_11_23_16h19m29s_passby.json.\n",
      "<module>       : Not assigned: Luzern, 2018_11_26_07h17m41s_passby.json.\n",
      "<module>       : Not assigned: Luzern, 2018_11_26_09h20m13s_passby.json.\n",
      "<module>       : Not assigned: Luzern, 2018_11_26_07h41m31s_passby.json.\n",
      "<module>       : Not assigned: Luzern, 2018_11_23_06h39m55s_passby.json.\n",
      "<module>       : Not assigned: Luzern, 2018_11_24_19h27m54s_passby.json.\n",
      "<module>       : Not assigned: Luzern, 2018_11_26_08h24m10s_passby.json.\n",
      "<module>       : Not assigned: Luzern, 2018_11_26_00h50m11s_passby.json.\n",
      "<module>       : Not assigned: Luzern, 2018_11_23_07h20m28s_passby.json.\n",
      "<module>       : Not assigned: Luzern, 2018_11_22_19h39m38s_passby.json.\n",
      "<module>       : Not assigned: Luzern, 2018_11_26_06h22m52s_passby.json.\n",
      "<module>       : Not assigned: Luzern, 2018_11_23_05h15m21s_passby.json.\n",
      "<module>       : Not assigned: Luzern, 2018_11_26_06h51m53s_passby.json.\n",
      "<module>       : Not assigned: Luzern, 2018_11_26_06h28m12s_passby.json.\n",
      "<module>       : Not assigned: Luzern, 2018_11_22_22h32m14s_passby.json.\n",
      "<module>       : Not assigned: Luzern, 2018_11_24_08h06m25s_passby.json.\n",
      "<module>       : Not assigned: Luzern, 2018_11_23_05h46m03s_passby.json.\n",
      "<module>       : Not assigned: Luzern, 2018_11_26_06h20m27s_passby.json.\n",
      "<module>       : Not assigned: Luzern, 2018_11_23_16h38m01s_passby.json.\n",
      "<module>       : Not assigned: Luzern, 2018_11_26_07h52m01s_passby.json.\n",
      "<module>       : Not assigned: Luzern, 2018_11_23_04h24m16s_passby.json.\n",
      "<module>       : Not assigned: Luzern, 2018_11_22_22h24m47s_passby.json.\n",
      "<module>       : Not assigned: Luzern, 2018_11_26_00h59m04s_passby.json.\n",
      "<module>       : Not assigned: Luzern, 2018_11_26_18h31m38s_passby.json.\n",
      "<module>       : Not assigned: Luzern, 2018_11_22_22h03m36s_passby.json.\n",
      "<module>       : Not assigned: Luzern, 2018_11_26_04h58m57s_passby.json.\n",
      "<module>       : Not assigned: Luzern, 2018_11_23_07h13m17s_passby.json.\n",
      "<module>       : Not assigned: Luzern, 2018_11_26_06h18m04s_passby.json.\n",
      "<module>       : Not assigned: Luzern, 2018_11_23_07h37m59s_passby.json.\n",
      "<module>       : Not assigned: Luzern, 2018_11_26_08h03m42s_passby.json.\n",
      "<module>       : Not assigned: Luzern, 2018_11_23_00h54m00s_passby.json.\n",
      "<module>       : Not assigned: Luzern, 2018_11_22_22h53m23s_passby.json.\n",
      "<module>       : Not assigned: Luzern, 2018_11_22_23h27m24s_passby.json.\n",
      "<module>       : Not assigned: Luzern, 2018_11_23_06h28m50s_passby.json.\n",
      "<module>       : Not assigned: Luzern, 2018_11_26_07h43m36s_passby.json.\n",
      "<module>       : Not assigned: Luzern, 2018_11_23_16h44m32s_passby.json.\n",
      "<module>       : Not assigned: Luzern, 2018_11_22_23h43m09s_passby.json.\n",
      "<module>       : Not assigned: Luzern, 2018_11_23_01h02m47s_passby.json.\n",
      "<module>       : Not assigned: Luzern, 2018_11_26_06h41m00s_passby.json.\n",
      "<module>       : Not assigned: Luzern, 2018_11_22_22h26m35s_passby.json.\n",
      "<module>       : Not assigned: Luzern, 2018_11_26_05h15m28s_passby.json.\n",
      "<module>       : Not assigned: Luzern, 2018_11_26_08h28m47s_passby.json.\n",
      "<module>       : Not assigned: Luzern, 2018_11_23_00h55m23s_passby.json.\n",
      "<module>       : Not assigned: Luzern, 2018_11_22_22h38m54s_passby.json.\n",
      "<module>       : Not assigned: Luzern, 2018_11_26_07h32m19s_passby.json.\n",
      "<module>       : Not assigned: Luzern, 2018_11_23_06h58m23s_passby.json.\n",
      "<module>       : Not assigned: Luzern, 2018_11_26_08h48m07s_passby.json.\n",
      "<module>       : Not assigned: Luzern, 2018_11_23_04h57m37s_passby.json.\n",
      "<module>       : Not assigned: Luzern, 2018_11_26_08h08m22s_passby.json.\n",
      "<module>       : Not assigned: Luzern, 2018_11_22_22h40m38s_passby.json.\n",
      "<module>       : Not assigned: Luzern, 2018_11_23_05h31m13s_passby.json.\n",
      "<module>       : Not assigned: Luzern, 2018_11_26_08h19m27s_passby.json.\n",
      "<module>       : Not assigned: Luzern, 2018_11_26_07h14m58s_passby.json.\n",
      "<module>       : Not assigned: Luzern, 2018_11_23_07h02m55s_passby.json.\n",
      "<module>       : Not assigned: Luzern, 2018_11_26_01h15m13s_passby.json.\n",
      "<module>       : Not assigned: Luzern, 2018_11_26_09h27m50s_passby.json.\n",
      "<module>       : Not assigned: Luzern, 2018_11_26_05h03m23s_passby.json.\n",
      "<module>       : Not assigned: Luzern, 2018_11_26_06h13m23s_passby.json.\n",
      "<module>       : Not assigned: Luzern, 2018_11_23_07h39m56s_passby.json.\n",
      "<module>       : Not assigned: Luzern, 2018_11_26_09h17m23s_passby.json.\n",
      "<module>       : Not assigned: Luzern, 2018_11_26_08h01m32s_passby.json.\n",
      "<module>       : Not assigned: Luzern, 2018_11_22_22h29m54s_passby.json.\n",
      "<module>       : Not assigned: Luzern, 2018_11_26_06h26m32s_passby.json.\n",
      "<module>       : Not assigned: Luzern, 2018_11_26_08h06m36s_passby.json.\n",
      "<module>       : Not assigned: Luzern, 2018_11_26_05h29m46s_passby.json.\n",
      "<module>       : Not assigned: Luzern, 2018_11_22_23h05m36s_passby.json.\n",
      "<module>       : Not assigned: Luzern, 2018_11_25_23h52m20s_passby.json.\n",
      "<module>       : Not assigned: Luzern, 2018_11_22_23h54m48s_passby.json.\n",
      "<module>       : Not assigned: Luzern, 2018_11_23_07h09m12s_passby.json.\n",
      "<module>       : Not assigned: Luzern, 2018_11_23_00h17m41s_passby.json.\n",
      "<module>       : Not assigned: Luzern, 2018_11_26_06h46m10s_passby.json.\n",
      "<module>       : Not assigned: Luzern, 2018_11_26_07h55m12s_passby.json.\n",
      "<module>       : Not assigned: Luzern, 2018_11_26_06h53m43s_passby.json.\n",
      "<module>       : Not assigned: Luzern, 2018_11_26_01h48m03s_passby.json.\n",
      "<module>       : Not assigned: Luzern, 2018_11_26_07h22m19s_passby.json.\n",
      "<module>       : Not assigned: Luzern, 2018_11_23_07h51m23s_passby.json.\n",
      "<module>       : Not assigned: Luzern, 2018_11_26_00h21m07s_passby.json.\n",
      "<module>       : Correctly assigned 1405\n",
      "<module>       : Not assigned 208\n",
      "<module>       : Not correctly assigned 0\n"
     ]
    }
   ],
   "source": [
    "assigned,not_assigned,not_correctly_assigned=[],[],[]\n",
    "used_recs =[]\n",
    "\n",
    "for p in passby_list:\n",
    "    assigned_recs = a.assign_xl2rec_to_passby(**p, xl2_records=rec_list,logger=logger)\n",
    "    n_assignements = len(assigned_recs)\n",
    "    if n_assignements == 0:\n",
    "        not_assigned.append(p)\n",
    "        logger.warning(\"Not assigned: {}, {}.\".format(p['path'].parent.parent.name, p['path'].name))\n",
    "    elif n_assignements == 1:\n",
    "        p['xl2_rec'] = assigned_recs\n",
    "        used_recs.append(*assigned_recs)\n",
    "        assigned.append(p)\n",
    "    elif n_assignements > 1:\n",
    "        not_correctly_assigned.append(p)\n",
    "        logger.warning(\"Not correctlyassigned: {}, {}.\".format(p['path'].parent.parent.name, p['path'].name))\n",
    "        \n",
    "logger.info(\"Correctly assigned {}\".format(len(assigned)))\n",
    "logger.warning(\"Not assigned {}\".format(len(not_assigned)))\n",
    "logger.warning(\"Not correctly assigned {}\".format(len(not_correctly_assigned)))"
   ]
  },
  {
   "cell_type": "code",
   "execution_count": 66,
   "metadata": {},
   "outputs": [
    {
     "data": {
      "text/html": [
       "\n",
       "\n",
       "\n",
       "\n",
       "\n",
       "\n",
       "  <div class=\"bk-root\" id=\"127a3cc5-0cf0-4b62-9131-2ca74a55d60f\"></div>\n"
      ]
     },
     "metadata": {},
     "output_type": "execute_result"
    },
    {
     "data": {},
     "metadata": {
      "application/vnd.bokehjs_exec.v0+json": {
       "id": "33cfcbd4-698b-43fd-bce2-e011c879196f"
      }
     },
     "output_type": "display_data"
    }
   ],
   "source": [
    "source_not_assigned = ColumnDataSource(\n",
    "    pd.DataFrame([{'x0':pb['start_rec'], 'x1':pb['stop_rec'],'y0':0,'y1':0}for pb in not_assigned])\n",
    ")\n",
    "\n",
    "glyph3 = Segment(x0=\"x0\", y0=\"y0\", x1=\"x1\", y1=\"y1\", line_color=\"orange\", line_width=10)\n",
    "plt.add_glyph(source_not_assigned, glyph2)\n",
    "show(plt)"
   ]
  },
  {
   "cell_type": "code",
   "execution_count": 37,
   "metadata": {},
   "outputs": [
    {
     "data": {
      "text/plain": [
       "415"
      ]
     },
     "execution_count": 37,
     "metadata": {},
     "output_type": "execute_result"
    }
   ],
   "source": [
    "len(assigned)"
   ]
  },
  {
   "cell_type": "code",
   "execution_count": 17,
   "metadata": {},
   "outputs": [],
   "source": [
    "used_recs_p = [r['path'] for r in used_recs]"
   ]
  },
  {
   "cell_type": "code",
   "execution_count": 18,
   "metadata": {},
   "outputs": [
    {
     "data": {
      "text/plain": [
       "693"
      ]
     },
     "execution_count": 18,
     "metadata": {},
     "output_type": "execute_result"
    }
   ],
   "source": [
    "len(set(used_recs_p))"
   ]
  },
  {
   "cell_type": "code",
   "execution_count": 34,
   "metadata": {},
   "outputs": [
    {
     "data": {
      "text/plain": [
       "693"
      ]
     },
     "execution_count": 34,
     "metadata": {},
     "output_type": "execute_result"
    }
   ],
   "source": [
    "len(set(used_recs_p)"
   ]
  },
  {
   "cell_type": "code",
   "execution_count": 19,
   "metadata": {},
   "outputs": [],
   "source": [
    "all_recs_p = set([r['path'] for r in rec_list_f])"
   ]
  },
  {
   "cell_type": "code",
   "execution_count": 21,
   "metadata": {},
   "outputs": [
    {
     "data": {
      "text/plain": [
       "[{'stop_rec': datetime.datetime(2018, 11, 15, 4, 51, 52),\n",
       "  'start_rec': datetime.datetime(2018, 11, 15, 4, 51, 38),\n",
       "  'path': PosixPath('/home/esr/Documents/Luzern/XL2KG/2018-11-15_SLM_026_123_Log.txt')},\n",
       " {'stop_rec': datetime.datetime(2018, 11, 13, 21, 54, 47),\n",
       "  'start_rec': datetime.datetime(2018, 11, 13, 21, 54, 34),\n",
       "  'path': PosixPath('/home/esr/Documents/Luzern/XL2KG/2018-11-13_SLM_067_123_Log.txt')},\n",
       " {'stop_rec': datetime.datetime(2018, 11, 14, 20, 52, 4),\n",
       "  'start_rec': datetime.datetime(2018, 11, 14, 20, 51, 22),\n",
       "  'path': PosixPath('/home/esr/Documents/Luzern/XL2KG/2018-11-14_SLM_183_123_Log.txt')},\n",
       " {'stop_rec': datetime.datetime(2018, 11, 14, 12, 12, 49),\n",
       "  'start_rec': datetime.datetime(2018, 11, 14, 12, 12, 36),\n",
       "  'path': PosixPath('/home/esr/Documents/Luzern/XL2KG/2018-11-14_SLM_014_123_Log.txt')},\n",
       " {'stop_rec': datetime.datetime(2018, 11, 13, 20, 43, 31),\n",
       "  'start_rec': datetime.datetime(2018, 11, 13, 20, 43, 18),\n",
       "  'path': PosixPath('/home/esr/Documents/Luzern/XL2KG/2018-11-13_SLM_042_123_Log.txt')},\n",
       " {'stop_rec': datetime.datetime(2018, 11, 14, 18, 38, 6),\n",
       "  'start_rec': datetime.datetime(2018, 11, 14, 18, 37, 54),\n",
       "  'path': PosixPath('/home/esr/Documents/Luzern/XL2KG/2018-11-14_SLM_138_123_Log.txt')},\n",
       " {'stop_rec': datetime.datetime(2018, 11, 15, 22, 35, 44),\n",
       "  'start_rec': datetime.datetime(2018, 11, 15, 22, 35, 32),\n",
       "  'path': PosixPath('/home/esr/Documents/Luzern/XL2KG/2018-11-15_SLM_322_123_Log.txt')},\n",
       " {'stop_rec': datetime.datetime(2018, 11, 14, 14, 16, 19),\n",
       "  'start_rec': datetime.datetime(2018, 11, 14, 14, 16, 6),\n",
       "  'path': PosixPath('/home/esr/Documents/Luzern/XL2KG/2018-11-14_SLM_052_123_Log.txt')},\n",
       " {'stop_rec': datetime.datetime(2018, 11, 15, 4, 41, 51),\n",
       "  'start_rec': datetime.datetime(2018, 11, 15, 4, 41, 16),\n",
       "  'path': PosixPath('/home/esr/Documents/Luzern/XL2KG/2018-11-15_SLM_023_123_Log.txt')},\n",
       " {'stop_rec': datetime.datetime(2018, 11, 14, 19, 38, 18),\n",
       "  'start_rec': datetime.datetime(2018, 11, 14, 19, 37, 44),\n",
       "  'path': PosixPath('/home/esr/Documents/Luzern/XL2KG/2018-11-14_SLM_159_123_Log.txt')},\n",
       " {'stop_rec': datetime.datetime(2018, 11, 15, 2, 34, 1),\n",
       "  'start_rec': datetime.datetime(2018, 11, 15, 2, 33, 48),\n",
       "  'path': PosixPath('/home/esr/Documents/Luzern/XL2KG/2018-11-15_SLM_014_123_Log.txt')},\n",
       " {'stop_rec': datetime.datetime(2018, 11, 15, 4, 51, 22),\n",
       "  'start_rec': datetime.datetime(2018, 11, 15, 4, 51, 8),\n",
       "  'path': PosixPath('/home/esr/Documents/Luzern/XL2KG/2018-11-15_SLM_025_123_Log.txt')},\n",
       " {'stop_rec': datetime.datetime(2018, 11, 15, 18, 21, 21),\n",
       "  'start_rec': datetime.datetime(2018, 11, 15, 18, 20, 40),\n",
       "  'path': PosixPath('/home/esr/Documents/Luzern/XL2KG/2018-11-15_SLM_236_123_Log.txt')},\n",
       " {'stop_rec': datetime.datetime(2018, 11, 15, 1, 38, 26),\n",
       "  'start_rec': datetime.datetime(2018, 11, 15, 1, 38, 18),\n",
       "  'path': PosixPath('/home/esr/Documents/Luzern/XL2KG/2018-11-15_SLM_000_123_Log.txt')},\n",
       " {'stop_rec': datetime.datetime(2018, 11, 15, 4, 42, 38),\n",
       "  'start_rec': datetime.datetime(2018, 11, 15, 4, 42, 12),\n",
       "  'path': PosixPath('/home/esr/Documents/Luzern/XL2KG/2018-11-15_SLM_024_123_Log.txt')},\n",
       " {'stop_rec': datetime.datetime(2018, 11, 15, 10, 40, 22),\n",
       "  'start_rec': datetime.datetime(2018, 11, 15, 10, 40, 10),\n",
       "  'path': PosixPath('/home/esr/Documents/Luzern/XL2KG/2018-11-15_SLM_085_123_Log.txt')},\n",
       " {'stop_rec': datetime.datetime(2018, 11, 15, 1, 56, 53),\n",
       "  'start_rec': datetime.datetime(2018, 11, 15, 1, 56, 40),\n",
       "  'path': PosixPath('/home/esr/Documents/Luzern/XL2KG/2018-11-15_SLM_007_123_Log.txt')}]"
      ]
     },
     "execution_count": 21,
     "metadata": {},
     "output_type": "execute_result"
    }
   ],
   "source": [
    "[a.load_xl2logs_info(p) for p in all_recs_p.difference(used_recs_p)]"
   ]
  },
  {
   "cell_type": "code",
   "execution_count": null,
   "metadata": {},
   "outputs": [],
   "source": []
  }
 ],
 "metadata": {
  "kernelspec": {
   "display_name": "base_python3.7",
   "language": "python",
   "name": "conda_base"
  },
  "language_info": {
   "codemirror_mode": {
    "name": "ipython",
    "version": 3
   },
   "file_extension": ".py",
   "mimetype": "text/x-python",
   "name": "python",
   "nbconvert_exporter": "python",
   "pygments_lexer": "ipython3",
   "version": "3.7.0"
  }
 },
 "nbformat": 4,
 "nbformat_minor": 2
}
